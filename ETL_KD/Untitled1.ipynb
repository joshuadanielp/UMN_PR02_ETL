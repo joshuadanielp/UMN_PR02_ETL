{
 "cells": [
  {
   "cell_type": "markdown",
   "metadata": {},
   "source": [
    "# Group 10 ETL Project"
   ]
  },
  {
   "cell_type": "markdown",
   "metadata": {},
   "source": [
    "Import all packs"
   ]
  },
  {
   "cell_type": "code",
   "execution_count": 1,
   "metadata": {},
   "outputs": [],
   "source": [
    "import sqlalchemy\n",
    "from sqlalchemy.ext.automap import automap_base\n",
    "from sqlalchemy.orm import Session\n",
    "from sqlalchemy import create_engine, inspect\n",
    "import pandas as pd"
   ]
  },
  {
   "cell_type": "markdown",
   "metadata": {},
   "source": [
    "Grab the URL and scrape the data needed"
   ]
  },
  {
   "cell_type": "code",
   "execution_count": 2,
   "metadata": {},
   "outputs": [],
   "source": [
    "engine = create_engine(\"sqlite:///Resources/mlsseasons.sqlite\", echo=False)"
   ]
  },
  {
   "cell_type": "code",
   "execution_count": 3,
   "metadata": {},
   "outputs": [
    {
     "name": "stdout",
     "output_type": "stream",
     "text": [
      "https://www.mlssoccer.com/standings/supporters-shield/2007/\n",
      "https://www.mlssoccer.com/standings/supporters-shield/2008/\n",
      "https://www.mlssoccer.com/standings/supporters-shield/2009/\n",
      "https://www.mlssoccer.com/standings/supporters-shield/2010/\n",
      "https://www.mlssoccer.com/standings/supporters-shield/2011/\n",
      "https://www.mlssoccer.com/standings/supporters-shield/2012/\n",
      "https://www.mlssoccer.com/standings/supporters-shield/2013/\n",
      "https://www.mlssoccer.com/standings/supporters-shield/2014/\n",
      "https://www.mlssoccer.com/standings/supporters-shield/2015/\n",
      "https://www.mlssoccer.com/standings/supporters-shield/2016/\n",
      "https://www.mlssoccer.com/standings/supporters-shield/2017/\n",
      "https://www.mlssoccer.com/standings/supporters-shield/2018/\n"
     ]
    },
    {
     "data": {
      "text/plain": [
       "(218,)"
      ]
     },
     "execution_count": 3,
     "metadata": {},
     "output_type": "execute_result"
    }
   ],
   "source": [
    "engine.execute(\"drop table seasons\")\n",
    "for year in range(2007, 2019):\n",
    "    url = f\"https://www.mlssoccer.com/standings/supporters-shield/{year}/\"\n",
    "    print(url)\n",
    "    tables = pd.read_html(url)\n",
    "    df = tables[0]\n",
    "    df.columns = df.loc[df.index[0]]\n",
    "    df.drop([0],inplace= True)\n",
    "    df.set_index('#', inplace=True)\n",
    "    df[\"season\"] = year\n",
    "    df.to_sql(\"seasons\", con=engine, if_exists='append')\n",
    "\n",
    "engine.execute(\"select count(*) from seasons\").first()"
   ]
  },
  {
   "cell_type": "markdown",
   "metadata": {},
   "source": [
    "Read salaries CSV file to pandas and write to SQL database"
   ]
  },
  {
   "cell_type": "code",
   "execution_count": 4,
   "metadata": {},
   "outputs": [],
   "source": [
    "sal = pd.read_csv(\"Resources/MLS_Salaries.csv\", encoding='UTF-16', sep=\"\\t\")\n"
   ]
  },
  {
   "cell_type": "code",
   "execution_count": 5,
   "metadata": {},
   "outputs": [
    {
     "data": {
      "text/plain": [
       "(6219,)"
      ]
     },
     "execution_count": 5,
     "metadata": {},
     "output_type": "execute_result"
    }
   ],
   "source": [
    "sal.to_sql(\"salaries\", con=engine, if_exists='replace')\n",
    "engine.execute(\"select count(*) from salaries\").first()"
   ]
  },
  {
   "cell_type": "markdown",
   "metadata": {},
   "source": [
    "create a mapping table for joining salaries data to seasons data "
   ]
  },
  {
   "cell_type": "code",
   "execution_count": 7,
   "metadata": {},
   "outputs": [
    {
     "data": {
      "text/plain": [
       "<sqlalchemy.engine.result.ResultProxy at 0x24455ea3be0>"
      ]
     },
     "execution_count": 7,
     "metadata": {},
     "output_type": "execute_result"
    }
   ],
   "source": [
    "engine.execute(\"drop table club_map\")\n",
    "engine.execute(\"create table club_map (long_name varchar(255), short_name varchar(255))\")"
   ]
  },
  {
   "cell_type": "code",
   "execution_count": 8,
   "metadata": {},
   "outputs": [
    {
     "data": {
      "text/plain": [
       "<sqlalchemy.engine.result.ResultProxy at 0x24455ea3cf8>"
      ]
     },
     "execution_count": 8,
     "metadata": {},
     "output_type": "execute_result"
    }
   ],
   "source": [
    "\n",
    "engine.execute(\"\"\"\n",
    "insert into club_map values\n",
    "('DCD.C. United','DC'),\n",
    "('CHVChivas USA','CHV'),\n",
    "('HOUHouston Dynamo','HOU'),\n",
    "('NENew England Revolution','NE'),\n",
    "('DALFC Dallas','FCD'),\n",
    "('RBNYNew York Red Bulls','RBNY'),\n",
    "('SKCSporting Kansas City','KC'),\n",
    "('CHIChicago Fire FC','CHI'),\n",
    "('CLBColumbus Crew SC','CLB'),\n",
    "('COLColorado Rapids','COL'),\n",
    "('LALA Galaxy','LAG'),\n",
    "('RSLReal Salt Lake','RSL'),\n",
    "('TORToronto FC','TFC'),\n",
    "('SJSan Jose Earthquakes','SJ'),\n",
    "('SEASeattle Sounders FC','SEA'),\n",
    "('PHIPhiladelphia Union','PHI'),\n",
    "('PORPortland Timbers','POR'),\n",
    "('VANVancouver Whitecaps FC','VAN'),\n",
    "('MTLMontreal Impact','MTL'),\n",
    "('ORLOrlando City SC','ORL'),\n",
    "('NYCNew York City FC','NYC'),\n",
    "('ATLAtlanta United FC','ATL'),\n",
    "('MINMinnesota United FC','MNU'),\n",
    "('LAFCLos Angeles Football Club','LAFC')\n",
    "\"\"\")"
   ]
  },
  {
   "cell_type": "code",
   "execution_count": 10,
   "metadata": {},
   "outputs": [
    {
     "data": {
      "text/html": [
       "<div>\n",
       "<style scoped>\n",
       "    .dataframe tbody tr th:only-of-type {\n",
       "        vertical-align: middle;\n",
       "    }\n",
       "\n",
       "    .dataframe tbody tr th {\n",
       "        vertical-align: top;\n",
       "    }\n",
       "\n",
       "    .dataframe thead th {\n",
       "        text-align: right;\n",
       "    }\n",
       "</style>\n",
       "<table border=\"1\" class=\"dataframe\">\n",
       "  <thead>\n",
       "    <tr style=\"text-align: right;\">\n",
       "      <th></th>\n",
       "      <th>First Name</th>\n",
       "      <th>Last Name</th>\n",
       "      <th>Club</th>\n",
       "      <th>PTS</th>\n",
       "      <th>Season</th>\n",
       "    </tr>\n",
       "  </thead>\n",
       "  <tbody>\n",
       "    <tr>\n",
       "      <th>0</th>\n",
       "      <td>None</td>\n",
       "      <td>Carreiro da Silva Fred</td>\n",
       "      <td>DCD.C. United</td>\n",
       "      <td>55</td>\n",
       "      <td>2007</td>\n",
       "    </tr>\n",
       "    <tr>\n",
       "      <th>1</th>\n",
       "      <td>Ben</td>\n",
       "      <td>Olsen</td>\n",
       "      <td>DCD.C. United</td>\n",
       "      <td>55</td>\n",
       "      <td>2007</td>\n",
       "    </tr>\n",
       "    <tr>\n",
       "      <th>2</th>\n",
       "      <td>Brad</td>\n",
       "      <td>North</td>\n",
       "      <td>DCD.C. United</td>\n",
       "      <td>55</td>\n",
       "      <td>2007</td>\n",
       "    </tr>\n",
       "    <tr>\n",
       "      <th>3</th>\n",
       "      <td>Brian</td>\n",
       "      <td>Carroll</td>\n",
       "      <td>DCD.C. United</td>\n",
       "      <td>55</td>\n",
       "      <td>2007</td>\n",
       "    </tr>\n",
       "    <tr>\n",
       "      <th>4</th>\n",
       "      <td>Bryan</td>\n",
       "      <td>Arguez</td>\n",
       "      <td>DCD.C. United</td>\n",
       "      <td>55</td>\n",
       "      <td>2007</td>\n",
       "    </tr>\n",
       "    <tr>\n",
       "      <th>...</th>\n",
       "      <td>...</td>\n",
       "      <td>...</td>\n",
       "      <td>...</td>\n",
       "      <td>...</td>\n",
       "      <td>...</td>\n",
       "    </tr>\n",
       "    <tr>\n",
       "      <th>6206</th>\n",
       "      <td>Quincy</td>\n",
       "      <td>Amarikwa</td>\n",
       "      <td>SJSan Jose Earthquakes</td>\n",
       "      <td>21</td>\n",
       "      <td>2018</td>\n",
       "    </tr>\n",
       "    <tr>\n",
       "      <th>6207</th>\n",
       "      <td>Shea</td>\n",
       "      <td>Salinas</td>\n",
       "      <td>SJSan Jose Earthquakes</td>\n",
       "      <td>21</td>\n",
       "      <td>2018</td>\n",
       "    </tr>\n",
       "    <tr>\n",
       "      <th>6208</th>\n",
       "      <td>Tommy</td>\n",
       "      <td>Thompson</td>\n",
       "      <td>SJSan Jose Earthquakes</td>\n",
       "      <td>21</td>\n",
       "      <td>2018</td>\n",
       "    </tr>\n",
       "    <tr>\n",
       "      <th>6209</th>\n",
       "      <td>Valeri \"Vako\"</td>\n",
       "      <td>Qazaishvili</td>\n",
       "      <td>SJSan Jose Earthquakes</td>\n",
       "      <td>21</td>\n",
       "      <td>2018</td>\n",
       "    </tr>\n",
       "    <tr>\n",
       "      <th>6210</th>\n",
       "      <td>Yeferson</td>\n",
       "      <td>Quintana</td>\n",
       "      <td>SJSan Jose Earthquakes</td>\n",
       "      <td>21</td>\n",
       "      <td>2018</td>\n",
       "    </tr>\n",
       "  </tbody>\n",
       "</table>\n",
       "<p>6211 rows × 5 columns</p>\n",
       "</div>"
      ],
      "text/plain": [
       "         First Name               Last Name                    Club PTS  \\\n",
       "0              None  Carreiro da Silva Fred           DCD.C. United  55   \n",
       "1               Ben                   Olsen           DCD.C. United  55   \n",
       "2              Brad                   North           DCD.C. United  55   \n",
       "3             Brian                 Carroll           DCD.C. United  55   \n",
       "4             Bryan                  Arguez           DCD.C. United  55   \n",
       "...             ...                     ...                     ...  ..   \n",
       "6206         Quincy                Amarikwa  SJSan Jose Earthquakes  21   \n",
       "6207           Shea                 Salinas  SJSan Jose Earthquakes  21   \n",
       "6208          Tommy                Thompson  SJSan Jose Earthquakes  21   \n",
       "6209  Valeri \"Vako\"             Qazaishvili  SJSan Jose Earthquakes  21   \n",
       "6210       Yeferson                Quintana  SJSan Jose Earthquakes  21   \n",
       "\n",
       "      Season  \n",
       "0       2007  \n",
       "1       2007  \n",
       "2       2007  \n",
       "3       2007  \n",
       "4       2007  \n",
       "...      ...  \n",
       "6206    2018  \n",
       "6207    2018  \n",
       "6208    2018  \n",
       "6209    2018  \n",
       "6210    2018  \n",
       "\n",
       "[6211 rows x 5 columns]"
      ]
     },
     "execution_count": 10,
     "metadata": {},
     "output_type": "execute_result"
    }
   ],
   "source": [
    "sample=pd.DataFrame(engine.execute(\"\"\"\n",
    "select s.\"First Name\", s.\"Last Name\",\n",
    "c.Club, c.pts, c.season\n",
    "from seasons c\n",
    "join club_map m on m.long_name = c.Club\n",
    "join salaries s on s.\"Club (grouped)\" = m.short_name\n",
    "where c.season = s.Season\n",
    "\"\"\"),columns=['First Name','Last Name','Club','PTS','Season'])\n",
    "sample\n"
   ]
  },
  {
   "cell_type": "code",
   "execution_count": null,
   "metadata": {},
   "outputs": [],
   "source": []
  },
  {
   "cell_type": "code",
   "execution_count": null,
   "metadata": {},
   "outputs": [],
   "source": []
  },
  {
   "cell_type": "code",
   "execution_count": null,
   "metadata": {},
   "outputs": [],
   "source": []
  }
 ],
 "metadata": {
  "kernelspec": {
   "display_name": "Python 3",
   "language": "python",
   "name": "python3"
  },
  "language_info": {
   "codemirror_mode": {
    "name": "ipython",
    "version": 3
   },
   "file_extension": ".py",
   "mimetype": "text/x-python",
   "name": "python",
   "nbconvert_exporter": "python",
   "pygments_lexer": "ipython3",
   "version": "3.6.10"
  }
 },
 "nbformat": 4,
 "nbformat_minor": 4
}
