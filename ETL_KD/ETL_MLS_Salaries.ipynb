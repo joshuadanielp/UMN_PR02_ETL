{
 "cells": [
  {
   "cell_type": "markdown",
   "metadata": {},
   "source": [
    "# Group 10 ETL Project"
   ]
  },
  {
   "cell_type": "markdown",
   "metadata": {},
   "source": [
    "Import all packs"
   ]
  },
  {
   "cell_type": "code",
   "execution_count": 1,
   "metadata": {},
   "outputs": [],
   "source": [
    "import sqlalchemy\n",
    "from sqlalchemy.ext.automap import automap_base\n",
    "from sqlalchemy.orm import Session\n",
    "from sqlalchemy import create_engine, inspect\n",
    "import pandas as pd"
   ]
  },
  {
   "cell_type": "markdown",
   "metadata": {},
   "source": [
    "Grab the URL and scrape the data needed"
   ]
  },
  {
   "cell_type": "code",
   "execution_count": 2,
   "metadata": {},
   "outputs": [],
   "source": [
    "engine = create_engine(\"sqlite:///Resources/mlsseasons.sqlite\", echo=False)"
   ]
  },
  {
   "cell_type": "code",
   "execution_count": 6,
   "metadata": {},
   "outputs": [
    {
     "output_type": "stream",
     "name": "stdout",
     "text": "https://www.mlssoccer.com/standings/supporters-shield/2018/\n"
    },
    {
     "output_type": "execute_result",
     "data": {
      "text/plain": "                             Club PTS   PPG  GP   W   L   T  GF  GA   GD  \\\n#                                                                          \n1          RBNYNew York Red Bulls  71  2.09  34  22   7   5  62  33   29   \n2            ATLAtlanta United FC  69  2.03  34  21   7   6  70  44   26   \n3         SKCSporting Kansas City  62  1.82  34  18   8   8  65  40   25   \n4          SEASeattle Sounders FC  59  1.74  34  18  11   5  52  37   15   \n5   LAFCLos Angeles Football Club  57  1.68  34  16   9   9  68  52   16   \n6                    DALFC Dallas  57  1.68  34  16   9   9  52  44    8   \n7             NYCNew York City FC  56  1.65  34  16  10   8  59  45   14   \n8             PORPortland Timbers  54  1.59  34  15  10   9  54  48    6   \n9                   DCD.C. United  51   1.5  34  14  11   9  60  50   10   \n10            CLBColumbus Crew SC  51   1.5  34  14  11   9  43  45   -2   \n11          PHIPhiladelphia Union  50  1.47  34  15  14   5  49  50   -1   \n12              RSLReal Salt Lake  49  1.44  34  14  13   7  55  58   -3   \n13                    LALA Galaxy  48  1.41  34  13  12   9  66  64    2   \n14      VANVancouver Whitecaps FC  47  1.38  34  13  13   8  54  67  -13   \n15             MTLMontreal Impact  46  1.35  34  14  16   4  47  53   -6   \n16       NENew England Revolution  41  1.21  34  10  13  11  49  55   -6   \n17              HOUHouston Dynamo  38  1.12  34  10  16   8  58  58    0   \n18         MINMinnesota United FC  36  1.06  34  11  20   3  49  71  -22   \n19                  TORToronto FC  36  1.06  34  10  18   6  59  64   -5   \n20             CHIChicago Fire FC  32  0.94  34   8  18   8  48  61  -13   \n21             COLColorado Rapids  31  0.91  34   8  19   7  36  63  -27   \n22             ORLOrlando City SC  28  0.82  34   8  22   4  43  74  -31   \n23         SJSan Jose Earthquakes  21  0.62  34   4  21   9  49  71  -22   \n\n   (H)W-L-T (A)W-L-T  season  \n#                             \n1    14-2-1    8-5-4    9999  \n2    11-2-4   10-5-2    9999  \n3    10-2-5    8-6-3    9999  \n4    10-5-2    8-6-3    9999  \n5     9-1-7    7-8-2    9999  \n6    10-2-5    6-7-4    9999  \n7    12-1-4    4-9-4    9999  \n8    11-2-4    4-8-5    9999  \n9    13-2-2    1-9-7    9999  \n10   11-2-4    3-9-5    9999  \n11    9-6-2    6-8-3    9999  \n12   11-2-4   3-11-3    9999  \n13    8-5-4    5-7-5    9999  \n14    7-5-5    6-8-3    9999  \n15   11-4-2   3-12-2    9999  \n16    8-4-5    2-9-6    9999  \n17    8-6-3   2-10-5    9999  \n18   10-6-1   1-14-2    9999  \n19    8-7-2   2-11-4    9999  \n20    6-7-4   2-11-4    9999  \n21    6-8-3   2-11-4    9999  \n22    6-7-4   2-15-0    9999  \n23    2-9-6   2-12-3    9999  ",
      "text/html": "<div>\n<style scoped>\n    .dataframe tbody tr th:only-of-type {\n        vertical-align: middle;\n    }\n\n    .dataframe tbody tr th {\n        vertical-align: top;\n    }\n\n    .dataframe thead th {\n        text-align: right;\n    }\n</style>\n<table border=\"1\" class=\"dataframe\">\n  <thead>\n    <tr style=\"text-align: right;\">\n      <th></th>\n      <th>Club</th>\n      <th>PTS</th>\n      <th>PPG</th>\n      <th>GP</th>\n      <th>W</th>\n      <th>L</th>\n      <th>T</th>\n      <th>GF</th>\n      <th>GA</th>\n      <th>GD</th>\n      <th>(H)W-L-T</th>\n      <th>(A)W-L-T</th>\n      <th>season</th>\n    </tr>\n    <tr>\n      <th>#</th>\n      <th></th>\n      <th></th>\n      <th></th>\n      <th></th>\n      <th></th>\n      <th></th>\n      <th></th>\n      <th></th>\n      <th></th>\n      <th></th>\n      <th></th>\n      <th></th>\n      <th></th>\n    </tr>\n  </thead>\n  <tbody>\n    <tr>\n      <th>1</th>\n      <td>RBNYNew York Red Bulls</td>\n      <td>71</td>\n      <td>2.09</td>\n      <td>34</td>\n      <td>22</td>\n      <td>7</td>\n      <td>5</td>\n      <td>62</td>\n      <td>33</td>\n      <td>29</td>\n      <td>14-2-1</td>\n      <td>8-5-4</td>\n      <td>9999</td>\n    </tr>\n    <tr>\n      <th>2</th>\n      <td>ATLAtlanta United FC</td>\n      <td>69</td>\n      <td>2.03</td>\n      <td>34</td>\n      <td>21</td>\n      <td>7</td>\n      <td>6</td>\n      <td>70</td>\n      <td>44</td>\n      <td>26</td>\n      <td>11-2-4</td>\n      <td>10-5-2</td>\n      <td>9999</td>\n    </tr>\n    <tr>\n      <th>3</th>\n      <td>SKCSporting Kansas City</td>\n      <td>62</td>\n      <td>1.82</td>\n      <td>34</td>\n      <td>18</td>\n      <td>8</td>\n      <td>8</td>\n      <td>65</td>\n      <td>40</td>\n      <td>25</td>\n      <td>10-2-5</td>\n      <td>8-6-3</td>\n      <td>9999</td>\n    </tr>\n    <tr>\n      <th>4</th>\n      <td>SEASeattle Sounders FC</td>\n      <td>59</td>\n      <td>1.74</td>\n      <td>34</td>\n      <td>18</td>\n      <td>11</td>\n      <td>5</td>\n      <td>52</td>\n      <td>37</td>\n      <td>15</td>\n      <td>10-5-2</td>\n      <td>8-6-3</td>\n      <td>9999</td>\n    </tr>\n    <tr>\n      <th>5</th>\n      <td>LAFCLos Angeles Football Club</td>\n      <td>57</td>\n      <td>1.68</td>\n      <td>34</td>\n      <td>16</td>\n      <td>9</td>\n      <td>9</td>\n      <td>68</td>\n      <td>52</td>\n      <td>16</td>\n      <td>9-1-7</td>\n      <td>7-8-2</td>\n      <td>9999</td>\n    </tr>\n    <tr>\n      <th>6</th>\n      <td>DALFC Dallas</td>\n      <td>57</td>\n      <td>1.68</td>\n      <td>34</td>\n      <td>16</td>\n      <td>9</td>\n      <td>9</td>\n      <td>52</td>\n      <td>44</td>\n      <td>8</td>\n      <td>10-2-5</td>\n      <td>6-7-4</td>\n      <td>9999</td>\n    </tr>\n    <tr>\n      <th>7</th>\n      <td>NYCNew York City FC</td>\n      <td>56</td>\n      <td>1.65</td>\n      <td>34</td>\n      <td>16</td>\n      <td>10</td>\n      <td>8</td>\n      <td>59</td>\n      <td>45</td>\n      <td>14</td>\n      <td>12-1-4</td>\n      <td>4-9-4</td>\n      <td>9999</td>\n    </tr>\n    <tr>\n      <th>8</th>\n      <td>PORPortland Timbers</td>\n      <td>54</td>\n      <td>1.59</td>\n      <td>34</td>\n      <td>15</td>\n      <td>10</td>\n      <td>9</td>\n      <td>54</td>\n      <td>48</td>\n      <td>6</td>\n      <td>11-2-4</td>\n      <td>4-8-5</td>\n      <td>9999</td>\n    </tr>\n    <tr>\n      <th>9</th>\n      <td>DCD.C. United</td>\n      <td>51</td>\n      <td>1.5</td>\n      <td>34</td>\n      <td>14</td>\n      <td>11</td>\n      <td>9</td>\n      <td>60</td>\n      <td>50</td>\n      <td>10</td>\n      <td>13-2-2</td>\n      <td>1-9-7</td>\n      <td>9999</td>\n    </tr>\n    <tr>\n      <th>10</th>\n      <td>CLBColumbus Crew SC</td>\n      <td>51</td>\n      <td>1.5</td>\n      <td>34</td>\n      <td>14</td>\n      <td>11</td>\n      <td>9</td>\n      <td>43</td>\n      <td>45</td>\n      <td>-2</td>\n      <td>11-2-4</td>\n      <td>3-9-5</td>\n      <td>9999</td>\n    </tr>\n    <tr>\n      <th>11</th>\n      <td>PHIPhiladelphia Union</td>\n      <td>50</td>\n      <td>1.47</td>\n      <td>34</td>\n      <td>15</td>\n      <td>14</td>\n      <td>5</td>\n      <td>49</td>\n      <td>50</td>\n      <td>-1</td>\n      <td>9-6-2</td>\n      <td>6-8-3</td>\n      <td>9999</td>\n    </tr>\n    <tr>\n      <th>12</th>\n      <td>RSLReal Salt Lake</td>\n      <td>49</td>\n      <td>1.44</td>\n      <td>34</td>\n      <td>14</td>\n      <td>13</td>\n      <td>7</td>\n      <td>55</td>\n      <td>58</td>\n      <td>-3</td>\n      <td>11-2-4</td>\n      <td>3-11-3</td>\n      <td>9999</td>\n    </tr>\n    <tr>\n      <th>13</th>\n      <td>LALA Galaxy</td>\n      <td>48</td>\n      <td>1.41</td>\n      <td>34</td>\n      <td>13</td>\n      <td>12</td>\n      <td>9</td>\n      <td>66</td>\n      <td>64</td>\n      <td>2</td>\n      <td>8-5-4</td>\n      <td>5-7-5</td>\n      <td>9999</td>\n    </tr>\n    <tr>\n      <th>14</th>\n      <td>VANVancouver Whitecaps FC</td>\n      <td>47</td>\n      <td>1.38</td>\n      <td>34</td>\n      <td>13</td>\n      <td>13</td>\n      <td>8</td>\n      <td>54</td>\n      <td>67</td>\n      <td>-13</td>\n      <td>7-5-5</td>\n      <td>6-8-3</td>\n      <td>9999</td>\n    </tr>\n    <tr>\n      <th>15</th>\n      <td>MTLMontreal Impact</td>\n      <td>46</td>\n      <td>1.35</td>\n      <td>34</td>\n      <td>14</td>\n      <td>16</td>\n      <td>4</td>\n      <td>47</td>\n      <td>53</td>\n      <td>-6</td>\n      <td>11-4-2</td>\n      <td>3-12-2</td>\n      <td>9999</td>\n    </tr>\n    <tr>\n      <th>16</th>\n      <td>NENew England Revolution</td>\n      <td>41</td>\n      <td>1.21</td>\n      <td>34</td>\n      <td>10</td>\n      <td>13</td>\n      <td>11</td>\n      <td>49</td>\n      <td>55</td>\n      <td>-6</td>\n      <td>8-4-5</td>\n      <td>2-9-6</td>\n      <td>9999</td>\n    </tr>\n    <tr>\n      <th>17</th>\n      <td>HOUHouston Dynamo</td>\n      <td>38</td>\n      <td>1.12</td>\n      <td>34</td>\n      <td>10</td>\n      <td>16</td>\n      <td>8</td>\n      <td>58</td>\n      <td>58</td>\n      <td>0</td>\n      <td>8-6-3</td>\n      <td>2-10-5</td>\n      <td>9999</td>\n    </tr>\n    <tr>\n      <th>18</th>\n      <td>MINMinnesota United FC</td>\n      <td>36</td>\n      <td>1.06</td>\n      <td>34</td>\n      <td>11</td>\n      <td>20</td>\n      <td>3</td>\n      <td>49</td>\n      <td>71</td>\n      <td>-22</td>\n      <td>10-6-1</td>\n      <td>1-14-2</td>\n      <td>9999</td>\n    </tr>\n    <tr>\n      <th>19</th>\n      <td>TORToronto FC</td>\n      <td>36</td>\n      <td>1.06</td>\n      <td>34</td>\n      <td>10</td>\n      <td>18</td>\n      <td>6</td>\n      <td>59</td>\n      <td>64</td>\n      <td>-5</td>\n      <td>8-7-2</td>\n      <td>2-11-4</td>\n      <td>9999</td>\n    </tr>\n    <tr>\n      <th>20</th>\n      <td>CHIChicago Fire FC</td>\n      <td>32</td>\n      <td>0.94</td>\n      <td>34</td>\n      <td>8</td>\n      <td>18</td>\n      <td>8</td>\n      <td>48</td>\n      <td>61</td>\n      <td>-13</td>\n      <td>6-7-4</td>\n      <td>2-11-4</td>\n      <td>9999</td>\n    </tr>\n    <tr>\n      <th>21</th>\n      <td>COLColorado Rapids</td>\n      <td>31</td>\n      <td>0.91</td>\n      <td>34</td>\n      <td>8</td>\n      <td>19</td>\n      <td>7</td>\n      <td>36</td>\n      <td>63</td>\n      <td>-27</td>\n      <td>6-8-3</td>\n      <td>2-11-4</td>\n      <td>9999</td>\n    </tr>\n    <tr>\n      <th>22</th>\n      <td>ORLOrlando City SC</td>\n      <td>28</td>\n      <td>0.82</td>\n      <td>34</td>\n      <td>8</td>\n      <td>22</td>\n      <td>4</td>\n      <td>43</td>\n      <td>74</td>\n      <td>-31</td>\n      <td>6-7-4</td>\n      <td>2-15-0</td>\n      <td>9999</td>\n    </tr>\n    <tr>\n      <th>23</th>\n      <td>SJSan Jose Earthquakes</td>\n      <td>21</td>\n      <td>0.62</td>\n      <td>34</td>\n      <td>4</td>\n      <td>21</td>\n      <td>9</td>\n      <td>49</td>\n      <td>71</td>\n      <td>-22</td>\n      <td>2-9-6</td>\n      <td>2-12-3</td>\n      <td>9999</td>\n    </tr>\n  </tbody>\n</table>\n</div>"
     },
     "metadata": {},
     "execution_count": 6
    }
   ],
   "source": [
    "    url = f\"https://www.mlssoccer.com/standings/supporters-shield/2018/\"\n",
    "    print(url)\n",
    "    tables = pd.read_html(url)\n",
    "    df = tables[0]\n",
    "    df.columns = ['#','Club','PTS','PPG','NaN0','GP','W','L','T','GF','GA','GD','NaN1','(H)W-L-T','NaN2','(A)W-L-T']\n",
    "    df.drop(columns=['NaN0','NaN1','NaN2'], inplace=True)\n",
    "    df.drop([0],inplace= True)\n",
    "    df.set_index('#', inplace=True)\n",
    "    df[\"season\"] = 9999\n",
    "    df"
   ]
  },
  {
   "cell_type": "code",
   "execution_count": 7,
   "metadata": {},
   "outputs": [
    {
     "output_type": "stream",
     "name": "stdout",
     "text": "https://www.mlssoccer.com/standings/supporters-shield/2007/\nhttps://www.mlssoccer.com/standings/supporters-shield/2008/\nhttps://www.mlssoccer.com/standings/supporters-shield/2009/\nhttps://www.mlssoccer.com/standings/supporters-shield/2010/\nhttps://www.mlssoccer.com/standings/supporters-shield/2011/\nhttps://www.mlssoccer.com/standings/supporters-shield/2012/\nhttps://www.mlssoccer.com/standings/supporters-shield/2013/\nhttps://www.mlssoccer.com/standings/supporters-shield/2014/\nhttps://www.mlssoccer.com/standings/supporters-shield/2015/\nhttps://www.mlssoccer.com/standings/supporters-shield/2016/\nhttps://www.mlssoccer.com/standings/supporters-shield/2017/\nhttps://www.mlssoccer.com/standings/supporters-shield/2018/\n"
    },
    {
     "output_type": "execute_result",
     "data": {
      "text/plain": "(218,)"
     },
     "metadata": {},
     "execution_count": 7
    }
   ],
   "source": [
    "engine.execute(\"drop table seasons\")\n",
    "for year in range(2007, 2019):\n",
    "    url = f\"https://www.mlssoccer.com/standings/supporters-shield/{year}/\"\n",
    "    print(url)\n",
    "    tables = pd.read_html(url)\n",
    "    df = tables[0]\n",
    "    df.columns = ['#','Club','PTS','PPG','NaN0','GP','W','L','T','GF','GA','GD','NaN1','(H)W-L-T','NaN2','(A)W-L-T']\n",
    "    df.drop(columns=['NaN0','NaN1','NaN2'], inplace=True)\n",
    "    df.drop([0],inplace= True)\n",
    "    df.set_index('#', inplace=True)\n",
    "    df[\"season\"] = year\n",
    "    df.to_sql(\"seasons\", con=engine, if_exists='append')\n",
    "\n",
    "engine.execute(\"select count(*) from seasons\").first()"
   ]
  },
  {
   "cell_type": "markdown",
   "metadata": {},
   "source": [
    "Read salaries CSV file to pandas and write to SQL database"
   ]
  },
  {
   "cell_type": "code",
   "execution_count": 7,
   "metadata": {},
   "outputs": [],
   "source": [
    "sal = pd.read_csv(\"Resources/MLS_Salaries.csv\", encoding='UTF-16', sep=\"\\t\")\n",
    "sal['Total Compensation'] = sal['Total Compensation'].replace('[\\$,]', '', regex=True).astype(int)\n",
    "sal['Base Salary'] = sal['Base Salary'].replace('[\\$,]', '', regex=True).astype(int)"
   ]
  },
  {
   "cell_type": "code",
   "execution_count": 9,
   "metadata": {},
   "outputs": [
    {
     "output_type": "execute_result",
     "data": {
      "text/plain": "      Season Club (grouped)  Club First Name       Last Name Position  \\\n0       2018            TFC   TOR  Sebastian        Giovinco        F   \n1       2018            TFC   TOR    Michael         Bradley        M   \n2       2018           LAFC  LAFC     Carlos            Vela        F   \n3       2018            CHI   CHI    Bastian  Schweinsteiger        M   \n4       2018            LAG    LA    Giovani      dos Santos        F   \n...      ...            ...   ...        ...             ...      ...   \n6214    2007            TFC   TFC       Nana   Attakora-Gyan        D   \n6215    2007            TFC   TFC    Gabriel            Gala        M   \n6216    2007            TFC   TFC      David          Guzman        M   \n6217    2007            TFC   TFC    Stephen          Lumley        D   \n6218    2007            TFC   TFC       Joey            Melo        M   \n\n      Total Compensation  Base Salary  \n0                7115556      5600000  \n1                6500000      6000000  \n2                6292500      4500000  \n3                6100000      6100000  \n4                6000000      4250000  \n...                  ...          ...  \n6214               12900        12900  \n6215               12900        12900  \n6216               12900        12900  \n6217               12900        12900  \n6218               12900        12900  \n\n[6219 rows x 8 columns]",
      "text/html": "<div>\n<style scoped>\n    .dataframe tbody tr th:only-of-type {\n        vertical-align: middle;\n    }\n\n    .dataframe tbody tr th {\n        vertical-align: top;\n    }\n\n    .dataframe thead th {\n        text-align: right;\n    }\n</style>\n<table border=\"1\" class=\"dataframe\">\n  <thead>\n    <tr style=\"text-align: right;\">\n      <th></th>\n      <th>Season</th>\n      <th>Club (grouped)</th>\n      <th>Club</th>\n      <th>First Name</th>\n      <th>Last Name</th>\n      <th>Position</th>\n      <th>Total Compensation</th>\n      <th>Base Salary</th>\n    </tr>\n  </thead>\n  <tbody>\n    <tr>\n      <th>0</th>\n      <td>2018</td>\n      <td>TFC</td>\n      <td>TOR</td>\n      <td>Sebastian</td>\n      <td>Giovinco</td>\n      <td>F</td>\n      <td>7115556</td>\n      <td>5600000</td>\n    </tr>\n    <tr>\n      <th>1</th>\n      <td>2018</td>\n      <td>TFC</td>\n      <td>TOR</td>\n      <td>Michael</td>\n      <td>Bradley</td>\n      <td>M</td>\n      <td>6500000</td>\n      <td>6000000</td>\n    </tr>\n    <tr>\n      <th>2</th>\n      <td>2018</td>\n      <td>LAFC</td>\n      <td>LAFC</td>\n      <td>Carlos</td>\n      <td>Vela</td>\n      <td>F</td>\n      <td>6292500</td>\n      <td>4500000</td>\n    </tr>\n    <tr>\n      <th>3</th>\n      <td>2018</td>\n      <td>CHI</td>\n      <td>CHI</td>\n      <td>Bastian</td>\n      <td>Schweinsteiger</td>\n      <td>M</td>\n      <td>6100000</td>\n      <td>6100000</td>\n    </tr>\n    <tr>\n      <th>4</th>\n      <td>2018</td>\n      <td>LAG</td>\n      <td>LA</td>\n      <td>Giovani</td>\n      <td>dos Santos</td>\n      <td>F</td>\n      <td>6000000</td>\n      <td>4250000</td>\n    </tr>\n    <tr>\n      <th>...</th>\n      <td>...</td>\n      <td>...</td>\n      <td>...</td>\n      <td>...</td>\n      <td>...</td>\n      <td>...</td>\n      <td>...</td>\n      <td>...</td>\n    </tr>\n    <tr>\n      <th>6214</th>\n      <td>2007</td>\n      <td>TFC</td>\n      <td>TFC</td>\n      <td>Nana</td>\n      <td>Attakora-Gyan</td>\n      <td>D</td>\n      <td>12900</td>\n      <td>12900</td>\n    </tr>\n    <tr>\n      <th>6215</th>\n      <td>2007</td>\n      <td>TFC</td>\n      <td>TFC</td>\n      <td>Gabriel</td>\n      <td>Gala</td>\n      <td>M</td>\n      <td>12900</td>\n      <td>12900</td>\n    </tr>\n    <tr>\n      <th>6216</th>\n      <td>2007</td>\n      <td>TFC</td>\n      <td>TFC</td>\n      <td>David</td>\n      <td>Guzman</td>\n      <td>M</td>\n      <td>12900</td>\n      <td>12900</td>\n    </tr>\n    <tr>\n      <th>6217</th>\n      <td>2007</td>\n      <td>TFC</td>\n      <td>TFC</td>\n      <td>Stephen</td>\n      <td>Lumley</td>\n      <td>D</td>\n      <td>12900</td>\n      <td>12900</td>\n    </tr>\n    <tr>\n      <th>6218</th>\n      <td>2007</td>\n      <td>TFC</td>\n      <td>TFC</td>\n      <td>Joey</td>\n      <td>Melo</td>\n      <td>M</td>\n      <td>12900</td>\n      <td>12900</td>\n    </tr>\n  </tbody>\n</table>\n<p>6219 rows × 8 columns</p>\n</div>"
     },
     "metadata": {},
     "execution_count": 9
    }
   ],
   "source": [
    "sal"
   ]
  },
  {
   "cell_type": "code",
   "execution_count": 15,
   "metadata": {},
   "outputs": [
    {
     "output_type": "execute_result",
     "data": {
      "text/plain": "                count           mean           std      min       25%  \\\nClub (grouped)                                                          \nATL              63.0  298488.000000  4.117594e+05  53000.0  68203.00   \nCHI             338.0  199812.547337  5.316092e+05  12900.0  49400.00   \nCHV             233.0   88399.188841  8.965739e+04  12900.0  44000.00   \nCLB             340.0  133037.805882  1.658747e+05  12900.0  46500.00   \nCOL             337.0  152145.373887  2.651415e+05  12900.0  49350.00   \nDC              338.0  134597.603550  1.557100e+05  12900.0  48500.00   \nFCD             358.0  134156.217877  1.683908e+05  12900.0  48501.00   \nHOU             325.0  131959.409231  1.166431e+05  12900.0  53004.00   \nKC              338.0  146085.908284  1.843519e+05  12900.0  48500.00   \nLAFC             28.0  401959.607143  8.450244e+05  54500.0  68561.25   \nLAG             345.0  410496.197101  1.057200e+06  12900.0  50004.00   \nMLS               8.0  354509.500000  6.105304e+05  67500.0  67500.00   \nMNU              60.0  214376.316667  2.267830e+05  53004.0  81875.00   \nMTL             209.0  179406.746411  2.437868e+05  33750.0  55654.00   \nNE              321.0  148768.838006  2.680428e+05  12900.0  45000.00   \nNYC             110.0  622375.272727  1.469340e+06  50000.0  65627.00   \nORL             121.0  354749.504132  1.031188e+06  50000.0  68250.00   \nPHI             255.0  162451.450980  2.102955e+05  32604.0  60000.00   \nPOR             237.0  202467.983122  3.087678e+05  32600.0  60000.00   \nRBNY            343.0  282426.973761  7.842970e+05  12900.0  50000.00   \nRSL             334.0  143242.616766  1.792343e+05  12900.0  50000.00   \nSEA             291.0  256169.048110  6.068642e+05  15300.0  50750.00   \nSJ              310.0  147880.632258  1.781343e+05  12900.0  54494.00   \nTFC             332.0  380873.084337  1.120330e+06  12900.0  50000.00   \nVAN             245.0  176691.791837  2.247799e+05  32600.0  60000.00   \n\n                     50%        75%        max  \nClub (grouped)                                  \nATL             125004.0  332508.00  1912500.0  \nCHI              81552.5  155750.00  6100000.0  \nCHV              66000.0  105000.00  1000000.0  \nCLB              78500.0  150000.00  1175000.0  \nCOL              75000.0  155250.00  2100000.0  \nDC               75000.0  179583.25  1500000.0  \nFCD              75000.0  150000.00  1863996.0  \nHOU              94500.0  181650.00   750000.0  \nKC               76917.5  169850.00  1600000.0  \nLAFC            115000.0  462500.00  4500000.0  \nLAG              84000.0  175000.00  6200004.0  \nMLS             141784.0  212506.00  1850000.0  \nMNU             168000.0  290001.00  1650000.0  \nMTL             100000.0  200000.00  1666668.0  \nNE               75000.0  145000.00  3000000.0  \nNYC             124278.5  271250.00  6000000.0  \nORL             110000.0  215000.00  6660000.0  \nPHI              96000.0  161000.00  1714286.0  \nPOR              90000.0  185004.00  2320000.0  \nRBNY             80000.0  157998.00  5544000.0  \nRSL              81250.0  162855.00  1750000.0  \nSEA              75000.0  180000.00  4913004.0  \nSJ               90000.0  175000.00  1325004.0  \nTFC              80000.0  176250.00  6000000.0  \nVAN              90000.0  190000.00  1400000.0  ",
      "text/html": "<div>\n<style scoped>\n    .dataframe tbody tr th:only-of-type {\n        vertical-align: middle;\n    }\n\n    .dataframe tbody tr th {\n        vertical-align: top;\n    }\n\n    .dataframe thead th {\n        text-align: right;\n    }\n</style>\n<table border=\"1\" class=\"dataframe\">\n  <thead>\n    <tr style=\"text-align: right;\">\n      <th></th>\n      <th>count</th>\n      <th>mean</th>\n      <th>std</th>\n      <th>min</th>\n      <th>25%</th>\n      <th>50%</th>\n      <th>75%</th>\n      <th>max</th>\n    </tr>\n    <tr>\n      <th>Club (grouped)</th>\n      <th></th>\n      <th></th>\n      <th></th>\n      <th></th>\n      <th></th>\n      <th></th>\n      <th></th>\n      <th></th>\n    </tr>\n  </thead>\n  <tbody>\n    <tr>\n      <th>ATL</th>\n      <td>63.0</td>\n      <td>298488.000000</td>\n      <td>4.117594e+05</td>\n      <td>53000.0</td>\n      <td>68203.00</td>\n      <td>125004.0</td>\n      <td>332508.00</td>\n      <td>1912500.0</td>\n    </tr>\n    <tr>\n      <th>CHI</th>\n      <td>338.0</td>\n      <td>199812.547337</td>\n      <td>5.316092e+05</td>\n      <td>12900.0</td>\n      <td>49400.00</td>\n      <td>81552.5</td>\n      <td>155750.00</td>\n      <td>6100000.0</td>\n    </tr>\n    <tr>\n      <th>CHV</th>\n      <td>233.0</td>\n      <td>88399.188841</td>\n      <td>8.965739e+04</td>\n      <td>12900.0</td>\n      <td>44000.00</td>\n      <td>66000.0</td>\n      <td>105000.00</td>\n      <td>1000000.0</td>\n    </tr>\n    <tr>\n      <th>CLB</th>\n      <td>340.0</td>\n      <td>133037.805882</td>\n      <td>1.658747e+05</td>\n      <td>12900.0</td>\n      <td>46500.00</td>\n      <td>78500.0</td>\n      <td>150000.00</td>\n      <td>1175000.0</td>\n    </tr>\n    <tr>\n      <th>COL</th>\n      <td>337.0</td>\n      <td>152145.373887</td>\n      <td>2.651415e+05</td>\n      <td>12900.0</td>\n      <td>49350.00</td>\n      <td>75000.0</td>\n      <td>155250.00</td>\n      <td>2100000.0</td>\n    </tr>\n    <tr>\n      <th>DC</th>\n      <td>338.0</td>\n      <td>134597.603550</td>\n      <td>1.557100e+05</td>\n      <td>12900.0</td>\n      <td>48500.00</td>\n      <td>75000.0</td>\n      <td>179583.25</td>\n      <td>1500000.0</td>\n    </tr>\n    <tr>\n      <th>FCD</th>\n      <td>358.0</td>\n      <td>134156.217877</td>\n      <td>1.683908e+05</td>\n      <td>12900.0</td>\n      <td>48501.00</td>\n      <td>75000.0</td>\n      <td>150000.00</td>\n      <td>1863996.0</td>\n    </tr>\n    <tr>\n      <th>HOU</th>\n      <td>325.0</td>\n      <td>131959.409231</td>\n      <td>1.166431e+05</td>\n      <td>12900.0</td>\n      <td>53004.00</td>\n      <td>94500.0</td>\n      <td>181650.00</td>\n      <td>750000.0</td>\n    </tr>\n    <tr>\n      <th>KC</th>\n      <td>338.0</td>\n      <td>146085.908284</td>\n      <td>1.843519e+05</td>\n      <td>12900.0</td>\n      <td>48500.00</td>\n      <td>76917.5</td>\n      <td>169850.00</td>\n      <td>1600000.0</td>\n    </tr>\n    <tr>\n      <th>LAFC</th>\n      <td>28.0</td>\n      <td>401959.607143</td>\n      <td>8.450244e+05</td>\n      <td>54500.0</td>\n      <td>68561.25</td>\n      <td>115000.0</td>\n      <td>462500.00</td>\n      <td>4500000.0</td>\n    </tr>\n    <tr>\n      <th>LAG</th>\n      <td>345.0</td>\n      <td>410496.197101</td>\n      <td>1.057200e+06</td>\n      <td>12900.0</td>\n      <td>50004.00</td>\n      <td>84000.0</td>\n      <td>175000.00</td>\n      <td>6200004.0</td>\n    </tr>\n    <tr>\n      <th>MLS</th>\n      <td>8.0</td>\n      <td>354509.500000</td>\n      <td>6.105304e+05</td>\n      <td>67500.0</td>\n      <td>67500.00</td>\n      <td>141784.0</td>\n      <td>212506.00</td>\n      <td>1850000.0</td>\n    </tr>\n    <tr>\n      <th>MNU</th>\n      <td>60.0</td>\n      <td>214376.316667</td>\n      <td>2.267830e+05</td>\n      <td>53004.0</td>\n      <td>81875.00</td>\n      <td>168000.0</td>\n      <td>290001.00</td>\n      <td>1650000.0</td>\n    </tr>\n    <tr>\n      <th>MTL</th>\n      <td>209.0</td>\n      <td>179406.746411</td>\n      <td>2.437868e+05</td>\n      <td>33750.0</td>\n      <td>55654.00</td>\n      <td>100000.0</td>\n      <td>200000.00</td>\n      <td>1666668.0</td>\n    </tr>\n    <tr>\n      <th>NE</th>\n      <td>321.0</td>\n      <td>148768.838006</td>\n      <td>2.680428e+05</td>\n      <td>12900.0</td>\n      <td>45000.00</td>\n      <td>75000.0</td>\n      <td>145000.00</td>\n      <td>3000000.0</td>\n    </tr>\n    <tr>\n      <th>NYC</th>\n      <td>110.0</td>\n      <td>622375.272727</td>\n      <td>1.469340e+06</td>\n      <td>50000.0</td>\n      <td>65627.00</td>\n      <td>124278.5</td>\n      <td>271250.00</td>\n      <td>6000000.0</td>\n    </tr>\n    <tr>\n      <th>ORL</th>\n      <td>121.0</td>\n      <td>354749.504132</td>\n      <td>1.031188e+06</td>\n      <td>50000.0</td>\n      <td>68250.00</td>\n      <td>110000.0</td>\n      <td>215000.00</td>\n      <td>6660000.0</td>\n    </tr>\n    <tr>\n      <th>PHI</th>\n      <td>255.0</td>\n      <td>162451.450980</td>\n      <td>2.102955e+05</td>\n      <td>32604.0</td>\n      <td>60000.00</td>\n      <td>96000.0</td>\n      <td>161000.00</td>\n      <td>1714286.0</td>\n    </tr>\n    <tr>\n      <th>POR</th>\n      <td>237.0</td>\n      <td>202467.983122</td>\n      <td>3.087678e+05</td>\n      <td>32600.0</td>\n      <td>60000.00</td>\n      <td>90000.0</td>\n      <td>185004.00</td>\n      <td>2320000.0</td>\n    </tr>\n    <tr>\n      <th>RBNY</th>\n      <td>343.0</td>\n      <td>282426.973761</td>\n      <td>7.842970e+05</td>\n      <td>12900.0</td>\n      <td>50000.00</td>\n      <td>80000.0</td>\n      <td>157998.00</td>\n      <td>5544000.0</td>\n    </tr>\n    <tr>\n      <th>RSL</th>\n      <td>334.0</td>\n      <td>143242.616766</td>\n      <td>1.792343e+05</td>\n      <td>12900.0</td>\n      <td>50000.00</td>\n      <td>81250.0</td>\n      <td>162855.00</td>\n      <td>1750000.0</td>\n    </tr>\n    <tr>\n      <th>SEA</th>\n      <td>291.0</td>\n      <td>256169.048110</td>\n      <td>6.068642e+05</td>\n      <td>15300.0</td>\n      <td>50750.00</td>\n      <td>75000.0</td>\n      <td>180000.00</td>\n      <td>4913004.0</td>\n    </tr>\n    <tr>\n      <th>SJ</th>\n      <td>310.0</td>\n      <td>147880.632258</td>\n      <td>1.781343e+05</td>\n      <td>12900.0</td>\n      <td>54494.00</td>\n      <td>90000.0</td>\n      <td>175000.00</td>\n      <td>1325004.0</td>\n    </tr>\n    <tr>\n      <th>TFC</th>\n      <td>332.0</td>\n      <td>380873.084337</td>\n      <td>1.120330e+06</td>\n      <td>12900.0</td>\n      <td>50000.00</td>\n      <td>80000.0</td>\n      <td>176250.00</td>\n      <td>6000000.0</td>\n    </tr>\n    <tr>\n      <th>VAN</th>\n      <td>245.0</td>\n      <td>176691.791837</td>\n      <td>2.247799e+05</td>\n      <td>32600.0</td>\n      <td>60000.00</td>\n      <td>90000.0</td>\n      <td>190000.00</td>\n      <td>1400000.0</td>\n    </tr>\n  </tbody>\n</table>\n</div>"
     },
     "metadata": {},
     "execution_count": 15
    }
   ],
   "source": [
    "sal.groupby('Club (grouped)')['Base Salary'].describe()"
   ]
  },
  {
   "cell_type": "code",
   "execution_count": 14,
   "metadata": {},
   "outputs": [
    {
     "output_type": "execute_result",
     "data": {
      "text/plain": "count    6.690000e+02\nmean     3.333547e+05\nstd      6.192844e+05\nmin      5.449200e+04\n25%      6.825400e+04\n50%      1.400040e+05\n75%      3.500000e+05\nmax      6.100000e+06\nName: Base Salary, dtype: float64"
     },
     "metadata": {},
     "execution_count": 14
    }
   ],
   "source": [
    "sal.loc[sal['Season'] == 2018]['Base Salary'].describe()"
   ]
  },
  {
   "cell_type": "code",
   "execution_count": 9,
   "metadata": {},
   "outputs": [
    {
     "output_type": "execute_result",
     "data": {
      "text/plain": "(6219,)"
     },
     "metadata": {},
     "execution_count": 9
    }
   ],
   "source": [
    "sal.to_sql(\"salaries\", con=engine, if_exists='replace')\n",
    "engine.execute(\"select count(*) from salaries\").first()"
   ]
  },
  {
   "cell_type": "markdown",
   "metadata": {},
   "source": [
    "create a mapping table for joining salaries data to seasons data "
   ]
  },
  {
   "cell_type": "code",
   "execution_count": 4,
   "metadata": {},
   "outputs": [
    {
     "output_type": "execute_result",
     "data": {
      "text/plain": "<sqlalchemy.engine.result.ResultProxy at 0x7f9f7ac2ff28>"
     },
     "metadata": {},
     "execution_count": 4
    }
   ],
   "source": [
    "engine.execute(\"drop table club_map\")\n",
    "engine.execute(\"\"\"create table club_map (\n",
    "    long_name varchar(255),\n",
    "    short_name varchar(255),\n",
    "    real_name varchar(255))\"\"\")"
   ]
  },
  {
   "cell_type": "code",
   "execution_count": 5,
   "metadata": {},
   "outputs": [
    {
     "output_type": "execute_result",
     "data": {
      "text/plain": "<sqlalchemy.engine.result.ResultProxy at 0x7f9f7ac51630>"
     },
     "metadata": {},
     "execution_count": 5
    }
   ],
   "source": [
    "\n",
    "engine.execute(\"\"\"\n",
    "insert into club_map values\n",
    "('DCD.C. United','DC', 'D.C. United'),\n",
    "('CHVChivas USA','CHV', 'Chivas USA'),\n",
    "('HOUHouston Dynamo','HOU', 'Houston Dynamo'),\n",
    "('NENew England Revolution','NE', 'New England Revolution'),\n",
    "('DALFC Dallas','FCD', 'FC Dallas'),\n",
    "('RBNYNew York Red Bulls','RBNY', 'New York Red Bulls'),\n",
    "('SKCSporting Kansas City','KC', 'Sporting Kansas City'),\n",
    "('CHIChicago Fire FC','CHI', 'Chicago Fire FC'),\n",
    "('CLBColumbus Crew SC','CLB', 'Columbus Crew SC'),\n",
    "('COLColorado Rapids','COL', 'Colorado Rapids'),\n",
    "('LALA Galaxy','LAG', 'LA Galaxy'),\n",
    "('RSLReal Salt Lake','RSL', 'Real Salt Lake'),\n",
    "('TORToronto FC','TFC', 'Toronto FC'),\n",
    "('SJSan Jose Earthquakes','SJ', 'San Jose Earthquakes'),\n",
    "('SEASeattle Sounders FC','SEA', 'Seattle Sounders FC'),\n",
    "('PHIPhiladelphia Union','PHI', 'Philadelphia Union'),\n",
    "('PORPortland Timbers','POR', 'Portland Timbers'),\n",
    "('VANVancouver Whitecaps FC','VAN', 'Vancouver Whitecaps FC'),\n",
    "('MTLMontreal Impact','MTL', 'Montreal Impact'),\n",
    "('ORLOrlando City SC','ORL', 'Orlando City SC'),\n",
    "('NYCNew York City FC','NYC', 'New York City FC'),\n",
    "('ATLAtlanta United FC','ATL', 'Atlanta United FC'),\n",
    "('MINMinnesota United FC','MNU', 'Minnesota United FC'),\n",
    "('LAFCLos Angeles Football Club','LAFC', 'Los Angeles Football Club')\n",
    "\"\"\")"
   ]
  },
  {
   "cell_type": "code",
   "execution_count": 6,
   "metadata": {},
   "outputs": [
    {
     "output_type": "execute_result",
     "data": {
      "text/plain": "         First Name               Last Name                    Club PTS  \\\n0              None  Carreiro da Silva Fred           DCD.C. United  55   \n1               Ben                   Olsen           DCD.C. United  55   \n2              Brad                   North           DCD.C. United  55   \n3             Brian                 Carroll           DCD.C. United  55   \n4             Bryan                  Arguez           DCD.C. United  55   \n...             ...                     ...                     ...  ..   \n6206         Quincy                Amarikwa  SJSan Jose Earthquakes  21   \n6207           Shea                 Salinas  SJSan Jose Earthquakes  21   \n6208          Tommy                Thompson  SJSan Jose Earthquakes  21   \n6209  Valeri \"Vako\"             Qazaishvili  SJSan Jose Earthquakes  21   \n6210       Yeferson                Quintana  SJSan Jose Earthquakes  21   \n\n      Season  \n0       2007  \n1       2007  \n2       2007  \n3       2007  \n4       2007  \n...      ...  \n6206    2018  \n6207    2018  \n6208    2018  \n6209    2018  \n6210    2018  \n\n[6211 rows x 5 columns]",
      "text/html": "<div>\n<style scoped>\n    .dataframe tbody tr th:only-of-type {\n        vertical-align: middle;\n    }\n\n    .dataframe tbody tr th {\n        vertical-align: top;\n    }\n\n    .dataframe thead th {\n        text-align: right;\n    }\n</style>\n<table border=\"1\" class=\"dataframe\">\n  <thead>\n    <tr style=\"text-align: right;\">\n      <th></th>\n      <th>First Name</th>\n      <th>Last Name</th>\n      <th>Club</th>\n      <th>PTS</th>\n      <th>Season</th>\n    </tr>\n  </thead>\n  <tbody>\n    <tr>\n      <th>0</th>\n      <td>None</td>\n      <td>Carreiro da Silva Fred</td>\n      <td>DCD.C. United</td>\n      <td>55</td>\n      <td>2007</td>\n    </tr>\n    <tr>\n      <th>1</th>\n      <td>Ben</td>\n      <td>Olsen</td>\n      <td>DCD.C. United</td>\n      <td>55</td>\n      <td>2007</td>\n    </tr>\n    <tr>\n      <th>2</th>\n      <td>Brad</td>\n      <td>North</td>\n      <td>DCD.C. United</td>\n      <td>55</td>\n      <td>2007</td>\n    </tr>\n    <tr>\n      <th>3</th>\n      <td>Brian</td>\n      <td>Carroll</td>\n      <td>DCD.C. United</td>\n      <td>55</td>\n      <td>2007</td>\n    </tr>\n    <tr>\n      <th>4</th>\n      <td>Bryan</td>\n      <td>Arguez</td>\n      <td>DCD.C. United</td>\n      <td>55</td>\n      <td>2007</td>\n    </tr>\n    <tr>\n      <th>...</th>\n      <td>...</td>\n      <td>...</td>\n      <td>...</td>\n      <td>...</td>\n      <td>...</td>\n    </tr>\n    <tr>\n      <th>6206</th>\n      <td>Quincy</td>\n      <td>Amarikwa</td>\n      <td>SJSan Jose Earthquakes</td>\n      <td>21</td>\n      <td>2018</td>\n    </tr>\n    <tr>\n      <th>6207</th>\n      <td>Shea</td>\n      <td>Salinas</td>\n      <td>SJSan Jose Earthquakes</td>\n      <td>21</td>\n      <td>2018</td>\n    </tr>\n    <tr>\n      <th>6208</th>\n      <td>Tommy</td>\n      <td>Thompson</td>\n      <td>SJSan Jose Earthquakes</td>\n      <td>21</td>\n      <td>2018</td>\n    </tr>\n    <tr>\n      <th>6209</th>\n      <td>Valeri \"Vako\"</td>\n      <td>Qazaishvili</td>\n      <td>SJSan Jose Earthquakes</td>\n      <td>21</td>\n      <td>2018</td>\n    </tr>\n    <tr>\n      <th>6210</th>\n      <td>Yeferson</td>\n      <td>Quintana</td>\n      <td>SJSan Jose Earthquakes</td>\n      <td>21</td>\n      <td>2018</td>\n    </tr>\n  </tbody>\n</table>\n<p>6211 rows × 5 columns</p>\n</div>"
     },
     "metadata": {},
     "execution_count": 6
    }
   ],
   "source": [
    "sample=pd.DataFrame(engine.execute(\"\"\"\n",
    "select s.\"First Name\", s.\"Last Name\",\n",
    "c.Club, c.pts, c.season\n",
    "from seasons c\n",
    "join club_map m on m.long_name = c.Club\n",
    "join salaries s on s.\"Club (grouped)\" = m.short_name\n",
    "where c.season = s.Season\n",
    "\"\"\"),columns=['First Name','Last Name','Club','PTS','Season'])\n",
    "sample\n"
   ]
  },
  {
   "cell_type": "code",
   "execution_count": null,
   "metadata": {},
   "outputs": [],
   "source": []
  }
 ],
 "metadata": {
  "kernelspec": {
   "display_name": "Python 3.6.9 64-bit",
   "language": "python",
   "name": "python36964bit606610d55bdf41e4a1443486c44dd6d8"
  },
  "language_info": {
   "codemirror_mode": {
    "name": "ipython",
    "version": 3
   },
   "file_extension": ".py",
   "mimetype": "text/x-python",
   "name": "python",
   "nbconvert_exporter": "python",
   "pygments_lexer": "ipython3",
   "version": "3.6.9-final"
  }
 },
 "nbformat": 4,
 "nbformat_minor": 4
}