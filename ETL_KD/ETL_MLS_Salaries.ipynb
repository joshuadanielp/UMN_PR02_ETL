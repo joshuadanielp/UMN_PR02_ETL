{
 "cells": [
  {
   "cell_type": "markdown",
   "metadata": {},
   "source": [
    "# Group 10 ETL Project"
   ]
  },
  {
   "cell_type": "markdown",
   "metadata": {},
   "source": [
    "Import all packs"
   ]
  },
  {
   "cell_type": "code",
   "execution_count": 1,
   "metadata": {},
   "outputs": [],
   "source": [
    "import sqlalchemy\n",
    "from sqlalchemy.ext.automap import automap_base\n",
    "from sqlalchemy.orm import Session\n",
    "from sqlalchemy import create_engine, inspect\n",
    "import pandas as pd"
   ]
  },
  {
   "cell_type": "markdown",
   "metadata": {},
   "source": [
    "Grab the URL and scrape the data needed"
   ]
  },
  {
   "cell_type": "code",
   "execution_count": 2,
   "metadata": {},
   "outputs": [],
   "source": [
    "engine = create_engine(\"sqlite:///Resources/mlsseasons.sqlite\", echo=False)"
   ]
  },
  {
   "cell_type": "code",
   "execution_count": 6,
   "metadata": {},
   "outputs": [
    {
     "output_type": "stream",
     "name": "stdout",
     "text": "https://www.mlssoccer.com/standings/supporters-shield/2018/\n"
    },
    {
     "output_type": "execute_result",
     "data": {
      "text/plain": "                             Club PTS   PPG  GP   W   L   T  GF  GA   GD  \\\n#                                                                          \n1          RBNYNew York Red Bulls  71  2.09  34  22   7   5  62  33   29   \n2            ATLAtlanta United FC  69  2.03  34  21   7   6  70  44   26   \n3         SKCSporting Kansas City  62  1.82  34  18   8   8  65  40   25   \n4          SEASeattle Sounders FC  59  1.74  34  18  11   5  52  37   15   \n5   LAFCLos Angeles Football Club  57  1.68  34  16   9   9  68  52   16   \n6                    DALFC Dallas  57  1.68  34  16   9   9  52  44    8   \n7             NYCNew York City FC  56  1.65  34  16  10   8  59  45   14   \n8             PORPortland Timbers  54  1.59  34  15  10   9  54  48    6   \n9                   DCD.C. United  51   1.5  34  14  11   9  60  50   10   \n10            CLBColumbus Crew SC  51   1.5  34  14  11   9  43  45   -2   \n11          PHIPhiladelphia Union  50  1.47  34  15  14   5  49  50   -1   \n12              RSLReal Salt Lake  49  1.44  34  14  13   7  55  58   -3   \n13                    LALA Galaxy  48  1.41  34  13  12   9  66  64    2   \n14      VANVancouver Whitecaps FC  47  1.38  34  13  13   8  54  67  -13   \n15             MTLMontreal Impact  46  1.35  34  14  16   4  47  53   -6   \n16       NENew England Revolution  41  1.21  34  10  13  11  49  55   -6   \n17              HOUHouston Dynamo  38  1.12  34  10  16   8  58  58    0   \n18         MINMinnesota United FC  36  1.06  34  11  20   3  49  71  -22   \n19                  TORToronto FC  36  1.06  34  10  18   6  59  64   -5   \n20             CHIChicago Fire FC  32  0.94  34   8  18   8  48  61  -13   \n21             COLColorado Rapids  31  0.91  34   8  19   7  36  63  -27   \n22             ORLOrlando City SC  28  0.82  34   8  22   4  43  74  -31   \n23         SJSan Jose Earthquakes  21  0.62  34   4  21   9  49  71  -22   \n\n   (H)W-L-T (A)W-L-T  season  \n#                             \n1    14-2-1    8-5-4    9999  \n2    11-2-4   10-5-2    9999  \n3    10-2-5    8-6-3    9999  \n4    10-5-2    8-6-3    9999  \n5     9-1-7    7-8-2    9999  \n6    10-2-5    6-7-4    9999  \n7    12-1-4    4-9-4    9999  \n8    11-2-4    4-8-5    9999  \n9    13-2-2    1-9-7    9999  \n10   11-2-4    3-9-5    9999  \n11    9-6-2    6-8-3    9999  \n12   11-2-4   3-11-3    9999  \n13    8-5-4    5-7-5    9999  \n14    7-5-5    6-8-3    9999  \n15   11-4-2   3-12-2    9999  \n16    8-4-5    2-9-6    9999  \n17    8-6-3   2-10-5    9999  \n18   10-6-1   1-14-2    9999  \n19    8-7-2   2-11-4    9999  \n20    6-7-4   2-11-4    9999  \n21    6-8-3   2-11-4    9999  \n22    6-7-4   2-15-0    9999  \n23    2-9-6   2-12-3    9999  ",
      "text/html": "<div>\n<style scoped>\n    .dataframe tbody tr th:only-of-type {\n        vertical-align: middle;\n    }\n\n    .dataframe tbody tr th {\n        vertical-align: top;\n    }\n\n    .dataframe thead th {\n        text-align: right;\n    }\n</style>\n<table border=\"1\" class=\"dataframe\">\n  <thead>\n    <tr style=\"text-align: right;\">\n      <th></th>\n      <th>Club</th>\n      <th>PTS</th>\n      <th>PPG</th>\n      <th>GP</th>\n      <th>W</th>\n      <th>L</th>\n      <th>T</th>\n      <th>GF</th>\n      <th>GA</th>\n      <th>GD</th>\n      <th>(H)W-L-T</th>\n      <th>(A)W-L-T</th>\n      <th>season</th>\n    </tr>\n    <tr>\n      <th>#</th>\n      <th></th>\n      <th></th>\n      <th></th>\n      <th></th>\n      <th></th>\n      <th></th>\n      <th></th>\n      <th></th>\n      <th></th>\n      <th></th>\n      <th></th>\n      <th></th>\n      <th></th>\n    </tr>\n  </thead>\n  <tbody>\n    <tr>\n      <th>1</th>\n      <td>RBNYNew York Red Bulls</td>\n      <td>71</td>\n      <td>2.09</td>\n      <td>34</td>\n      <td>22</td>\n      <td>7</td>\n      <td>5</td>\n      <td>62</td>\n      <td>33</td>\n      <td>29</td>\n      <td>14-2-1</td>\n      <td>8-5-4</td>\n      <td>9999</td>\n    </tr>\n    <tr>\n      <th>2</th>\n      <td>ATLAtlanta United FC</td>\n      <td>69</td>\n      <td>2.03</td>\n      <td>34</td>\n      <td>21</td>\n      <td>7</td>\n      <td>6</td>\n      <td>70</td>\n      <td>44</td>\n      <td>26</td>\n      <td>11-2-4</td>\n      <td>10-5-2</td>\n      <td>9999</td>\n    </tr>\n    <tr>\n      <th>3</th>\n      <td>SKCSporting Kansas City</td>\n      <td>62</td>\n      <td>1.82</td>\n      <td>34</td>\n      <td>18</td>\n      <td>8</td>\n      <td>8</td>\n      <td>65</td>\n      <td>40</td>\n      <td>25</td>\n      <td>10-2-5</td>\n      <td>8-6-3</td>\n      <td>9999</td>\n    </tr>\n    <tr>\n      <th>4</th>\n      <td>SEASeattle Sounders FC</td>\n      <td>59</td>\n      <td>1.74</td>\n      <td>34</td>\n      <td>18</td>\n      <td>11</td>\n      <td>5</td>\n      <td>52</td>\n      <td>37</td>\n      <td>15</td>\n      <td>10-5-2</td>\n      <td>8-6-3</td>\n      <td>9999</td>\n    </tr>\n    <tr>\n      <th>5</th>\n      <td>LAFCLos Angeles Football Club</td>\n      <td>57</td>\n      <td>1.68</td>\n      <td>34</td>\n      <td>16</td>\n      <td>9</td>\n      <td>9</td>\n      <td>68</td>\n      <td>52</td>\n      <td>16</td>\n      <td>9-1-7</td>\n      <td>7-8-2</td>\n      <td>9999</td>\n    </tr>\n    <tr>\n      <th>6</th>\n      <td>DALFC Dallas</td>\n      <td>57</td>\n      <td>1.68</td>\n      <td>34</td>\n      <td>16</td>\n      <td>9</td>\n      <td>9</td>\n      <td>52</td>\n      <td>44</td>\n      <td>8</td>\n      <td>10-2-5</td>\n      <td>6-7-4</td>\n      <td>9999</td>\n    </tr>\n    <tr>\n      <th>7</th>\n      <td>NYCNew York City FC</td>\n      <td>56</td>\n      <td>1.65</td>\n      <td>34</td>\n      <td>16</td>\n      <td>10</td>\n      <td>8</td>\n      <td>59</td>\n      <td>45</td>\n      <td>14</td>\n      <td>12-1-4</td>\n      <td>4-9-4</td>\n      <td>9999</td>\n    </tr>\n    <tr>\n      <th>8</th>\n      <td>PORPortland Timbers</td>\n      <td>54</td>\n      <td>1.59</td>\n      <td>34</td>\n      <td>15</td>\n      <td>10</td>\n      <td>9</td>\n      <td>54</td>\n      <td>48</td>\n      <td>6</td>\n      <td>11-2-4</td>\n      <td>4-8-5</td>\n      <td>9999</td>\n    </tr>\n    <tr>\n      <th>9</th>\n      <td>DCD.C. United</td>\n      <td>51</td>\n      <td>1.5</td>\n      <td>34</td>\n      <td>14</td>\n      <td>11</td>\n      <td>9</td>\n      <td>60</td>\n      <td>50</td>\n      <td>10</td>\n      <td>13-2-2</td>\n      <td>1-9-7</td>\n      <td>9999</td>\n    </tr>\n    <tr>\n      <th>10</th>\n      <td>CLBColumbus Crew SC</td>\n      <td>51</td>\n      <td>1.5</td>\n      <td>34</td>\n      <td>14</td>\n      <td>11</td>\n      <td>9</td>\n      <td>43</td>\n      <td>45</td>\n      <td>-2</td>\n      <td>11-2-4</td>\n      <td>3-9-5</td>\n      <td>9999</td>\n    </tr>\n    <tr>\n      <th>11</th>\n      <td>PHIPhiladelphia Union</td>\n      <td>50</td>\n      <td>1.47</td>\n      <td>34</td>\n      <td>15</td>\n      <td>14</td>\n      <td>5</td>\n      <td>49</td>\n      <td>50</td>\n      <td>-1</td>\n      <td>9-6-2</td>\n      <td>6-8-3</td>\n      <td>9999</td>\n    </tr>\n    <tr>\n      <th>12</th>\n      <td>RSLReal Salt Lake</td>\n      <td>49</td>\n      <td>1.44</td>\n      <td>34</td>\n      <td>14</td>\n      <td>13</td>\n      <td>7</td>\n      <td>55</td>\n      <td>58</td>\n      <td>-3</td>\n      <td>11-2-4</td>\n      <td>3-11-3</td>\n      <td>9999</td>\n    </tr>\n    <tr>\n      <th>13</th>\n      <td>LALA Galaxy</td>\n      <td>48</td>\n      <td>1.41</td>\n      <td>34</td>\n      <td>13</td>\n      <td>12</td>\n      <td>9</td>\n      <td>66</td>\n      <td>64</td>\n      <td>2</td>\n      <td>8-5-4</td>\n      <td>5-7-5</td>\n      <td>9999</td>\n    </tr>\n    <tr>\n      <th>14</th>\n      <td>VANVancouver Whitecaps FC</td>\n      <td>47</td>\n      <td>1.38</td>\n      <td>34</td>\n      <td>13</td>\n      <td>13</td>\n      <td>8</td>\n      <td>54</td>\n      <td>67</td>\n      <td>-13</td>\n      <td>7-5-5</td>\n      <td>6-8-3</td>\n      <td>9999</td>\n    </tr>\n    <tr>\n      <th>15</th>\n      <td>MTLMontreal Impact</td>\n      <td>46</td>\n      <td>1.35</td>\n      <td>34</td>\n      <td>14</td>\n      <td>16</td>\n      <td>4</td>\n      <td>47</td>\n      <td>53</td>\n      <td>-6</td>\n      <td>11-4-2</td>\n      <td>3-12-2</td>\n      <td>9999</td>\n    </tr>\n    <tr>\n      <th>16</th>\n      <td>NENew England Revolution</td>\n      <td>41</td>\n      <td>1.21</td>\n      <td>34</td>\n      <td>10</td>\n      <td>13</td>\n      <td>11</td>\n      <td>49</td>\n      <td>55</td>\n      <td>-6</td>\n      <td>8-4-5</td>\n      <td>2-9-6</td>\n      <td>9999</td>\n    </tr>\n    <tr>\n      <th>17</th>\n      <td>HOUHouston Dynamo</td>\n      <td>38</td>\n      <td>1.12</td>\n      <td>34</td>\n      <td>10</td>\n      <td>16</td>\n      <td>8</td>\n      <td>58</td>\n      <td>58</td>\n      <td>0</td>\n      <td>8-6-3</td>\n      <td>2-10-5</td>\n      <td>9999</td>\n    </tr>\n    <tr>\n      <th>18</th>\n      <td>MINMinnesota United FC</td>\n      <td>36</td>\n      <td>1.06</td>\n      <td>34</td>\n      <td>11</td>\n      <td>20</td>\n      <td>3</td>\n      <td>49</td>\n      <td>71</td>\n      <td>-22</td>\n      <td>10-6-1</td>\n      <td>1-14-2</td>\n      <td>9999</td>\n    </tr>\n    <tr>\n      <th>19</th>\n      <td>TORToronto FC</td>\n      <td>36</td>\n      <td>1.06</td>\n      <td>34</td>\n      <td>10</td>\n      <td>18</td>\n      <td>6</td>\n      <td>59</td>\n      <td>64</td>\n      <td>-5</td>\n      <td>8-7-2</td>\n      <td>2-11-4</td>\n      <td>9999</td>\n    </tr>\n    <tr>\n      <th>20</th>\n      <td>CHIChicago Fire FC</td>\n      <td>32</td>\n      <td>0.94</td>\n      <td>34</td>\n      <td>8</td>\n      <td>18</td>\n      <td>8</td>\n      <td>48</td>\n      <td>61</td>\n      <td>-13</td>\n      <td>6-7-4</td>\n      <td>2-11-4</td>\n      <td>9999</td>\n    </tr>\n    <tr>\n      <th>21</th>\n      <td>COLColorado Rapids</td>\n      <td>31</td>\n      <td>0.91</td>\n      <td>34</td>\n      <td>8</td>\n      <td>19</td>\n      <td>7</td>\n      <td>36</td>\n      <td>63</td>\n      <td>-27</td>\n      <td>6-8-3</td>\n      <td>2-11-4</td>\n      <td>9999</td>\n    </tr>\n    <tr>\n      <th>22</th>\n      <td>ORLOrlando City SC</td>\n      <td>28</td>\n      <td>0.82</td>\n      <td>34</td>\n      <td>8</td>\n      <td>22</td>\n      <td>4</td>\n      <td>43</td>\n      <td>74</td>\n      <td>-31</td>\n      <td>6-7-4</td>\n      <td>2-15-0</td>\n      <td>9999</td>\n    </tr>\n    <tr>\n      <th>23</th>\n      <td>SJSan Jose Earthquakes</td>\n      <td>21</td>\n      <td>0.62</td>\n      <td>34</td>\n      <td>4</td>\n      <td>21</td>\n      <td>9</td>\n      <td>49</td>\n      <td>71</td>\n      <td>-22</td>\n      <td>2-9-6</td>\n      <td>2-12-3</td>\n      <td>9999</td>\n    </tr>\n  </tbody>\n</table>\n</div>"
     },
     "metadata": {},
     "execution_count": 6
    }
   ],
   "source": [
    "    url = f\"https://www.mlssoccer.com/standings/supporters-shield/2018/\"\n",
    "    print(url)\n",
    "    tables = pd.read_html(url)\n",
    "    df = tables[0]\n",
    "    df.columns = ['#','Club','PTS','PPG','NaN0','GP','W','L','T','GF','GA','GD','NaN1','(H)W-L-T','NaN2','(A)W-L-T']\n",
    "    df.drop(columns=['NaN0','NaN1','NaN2'], inplace=True)\n",
    "    df.drop([0],inplace= True)\n",
    "    df.set_index('#', inplace=True)\n",
    "    df[\"season\"] = 9999\n",
    "    df"
   ]
  },
  {
   "cell_type": "code",
   "execution_count": 7,
   "metadata": {},
   "outputs": [
    {
     "output_type": "stream",
     "name": "stdout",
     "text": "https://www.mlssoccer.com/standings/supporters-shield/2007/\nhttps://www.mlssoccer.com/standings/supporters-shield/2008/\nhttps://www.mlssoccer.com/standings/supporters-shield/2009/\nhttps://www.mlssoccer.com/standings/supporters-shield/2010/\nhttps://www.mlssoccer.com/standings/supporters-shield/2011/\nhttps://www.mlssoccer.com/standings/supporters-shield/2012/\nhttps://www.mlssoccer.com/standings/supporters-shield/2013/\nhttps://www.mlssoccer.com/standings/supporters-shield/2014/\nhttps://www.mlssoccer.com/standings/supporters-shield/2015/\nhttps://www.mlssoccer.com/standings/supporters-shield/2016/\nhttps://www.mlssoccer.com/standings/supporters-shield/2017/\nhttps://www.mlssoccer.com/standings/supporters-shield/2018/\n"
    },
    {
     "output_type": "execute_result",
     "data": {
      "text/plain": "(218,)"
     },
     "metadata": {},
     "execution_count": 7
    }
   ],
   "source": [
    "engine.execute(\"drop table seasons\")\n",
    "for year in range(2007, 2019):\n",
    "    url = f\"https://www.mlssoccer.com/standings/supporters-shield/{year}/\"\n",
    "    print(url)\n",
    "    tables = pd.read_html(url)\n",
    "    df = tables[0]\n",
    "    df.columns = ['#','Club','PTS','PPG','NaN0','GP','W','L','T','GF','GA','GD','NaN1','(H)W-L-T','NaN2','(A)W-L-T']\n",
    "    df.drop(columns=['NaN0','NaN1','NaN2'], inplace=True)\n",
    "    df.drop([0],inplace= True)\n",
    "    df.set_index('#', inplace=True)\n",
    "    df[\"season\"] = year\n",
    "    df.to_sql(\"seasons\", con=engine, if_exists='append')\n",
    "\n",
    "engine.execute(\"select count(*) from seasons\").first()"
   ]
  },
  {
   "cell_type": "markdown",
   "metadata": {},
   "source": [
    "Read salaries CSV file to pandas and write to SQL database"
   ]
  },
  {
   "cell_type": "code",
   "execution_count": 8,
   "metadata": {},
   "outputs": [],
   "source": [
    "sal = pd.read_csv(\"Resources/MLS_Salaries.csv\", encoding='UTF-16', sep=\"\\t\")\n",
    "sal['Total Compensation'] = sal['Total Compensation'].replace('[\\$,]', '', regex=True).astype(int)\n",
    "sal['Base Salary'] = sal['Base Salary'].replace('[\\$,]', '', regex=True).astype(int)"
   ]
  },
  {
   "cell_type": "code",
   "execution_count": 9,
   "metadata": {},
   "outputs": [
    {
     "output_type": "execute_result",
     "data": {
      "text/plain": "(6219,)"
     },
     "metadata": {},
     "execution_count": 9
    }
   ],
   "source": [
    "sal.to_sql(\"salaries\", con=engine, if_exists='replace')\n",
    "engine.execute(\"select count(*) from salaries\").first()"
   ]
  },
  {
   "cell_type": "markdown",
   "metadata": {},
   "source": [
    "create a mapping table for joining salaries data to seasons data "
   ]
  },
  {
   "cell_type": "code",
   "execution_count": 4,
   "metadata": {},
   "outputs": [
    {
     "output_type": "execute_result",
     "data": {
      "text/plain": "<sqlalchemy.engine.result.ResultProxy at 0x7f9f7ac2ff28>"
     },
     "metadata": {},
     "execution_count": 4
    }
   ],
   "source": [
    "engine.execute(\"drop table club_map\")\n",
    "engine.execute(\"\"\"create table club_map (\n",
    "    long_name varchar(255),\n",
    "    short_name varchar(255),\n",
    "    real_name varchar(255))\"\"\")"
   ]
  },
  {
   "cell_type": "code",
   "execution_count": 5,
   "metadata": {},
   "outputs": [
    {
     "output_type": "execute_result",
     "data": {
      "text/plain": "<sqlalchemy.engine.result.ResultProxy at 0x7f9f7ac51630>"
     },
     "metadata": {},
     "execution_count": 5
    }
   ],
   "source": [
    "\n",
    "engine.execute(\"\"\"\n",
    "insert into club_map values\n",
    "('DCD.C. United','DC', 'D.C. United'),\n",
    "('CHVChivas USA','CHV', 'Chivas USA'),\n",
    "('HOUHouston Dynamo','HOU', 'Houston Dynamo'),\n",
    "('NENew England Revolution','NE', 'New England Revolution'),\n",
    "('DALFC Dallas','FCD', 'FC Dallas'),\n",
    "('RBNYNew York Red Bulls','RBNY', 'New York Red Bulls'),\n",
    "('SKCSporting Kansas City','KC', 'Sporting Kansas City'),\n",
    "('CHIChicago Fire FC','CHI', 'Chicago Fire FC'),\n",
    "('CLBColumbus Crew SC','CLB', 'Columbus Crew SC'),\n",
    "('COLColorado Rapids','COL', 'Colorado Rapids'),\n",
    "('LALA Galaxy','LAG', 'LA Galaxy'),\n",
    "('RSLReal Salt Lake','RSL', 'Real Salt Lake'),\n",
    "('TORToronto FC','TFC', 'Toronto FC'),\n",
    "('SJSan Jose Earthquakes','SJ', 'San Jose Earthquakes'),\n",
    "('SEASeattle Sounders FC','SEA', 'Seattle Sounders FC'),\n",
    "('PHIPhiladelphia Union','PHI', 'Philadelphia Union'),\n",
    "('PORPortland Timbers','POR', 'Portland Timbers'),\n",
    "('VANVancouver Whitecaps FC','VAN', 'Vancouver Whitecaps FC'),\n",
    "('MTLMontreal Impact','MTL', 'Montreal Impact'),\n",
    "('ORLOrlando City SC','ORL', 'Orlando City SC'),\n",
    "('NYCNew York City FC','NYC', 'New York City FC'),\n",
    "('ATLAtlanta United FC','ATL', 'Atlanta United FC'),\n",
    "('MINMinnesota United FC','MNU', 'Minnesota United FC'),\n",
    "('LAFCLos Angeles Football Club','LAFC', 'Los Angeles Football Club')\n",
    "\"\"\")"
   ]
  },
  {
   "cell_type": "code",
   "execution_count": 6,
   "metadata": {},
   "outputs": [
    {
     "output_type": "execute_result",
     "data": {
      "text/plain": "         First Name               Last Name                    Club PTS  \\\n0              None  Carreiro da Silva Fred           DCD.C. United  55   \n1               Ben                   Olsen           DCD.C. United  55   \n2              Brad                   North           DCD.C. United  55   \n3             Brian                 Carroll           DCD.C. United  55   \n4             Bryan                  Arguez           DCD.C. United  55   \n...             ...                     ...                     ...  ..   \n6206         Quincy                Amarikwa  SJSan Jose Earthquakes  21   \n6207           Shea                 Salinas  SJSan Jose Earthquakes  21   \n6208          Tommy                Thompson  SJSan Jose Earthquakes  21   \n6209  Valeri \"Vako\"             Qazaishvili  SJSan Jose Earthquakes  21   \n6210       Yeferson                Quintana  SJSan Jose Earthquakes  21   \n\n      Season  \n0       2007  \n1       2007  \n2       2007  \n3       2007  \n4       2007  \n...      ...  \n6206    2018  \n6207    2018  \n6208    2018  \n6209    2018  \n6210    2018  \n\n[6211 rows x 5 columns]",
      "text/html": "<div>\n<style scoped>\n    .dataframe tbody tr th:only-of-type {\n        vertical-align: middle;\n    }\n\n    .dataframe tbody tr th {\n        vertical-align: top;\n    }\n\n    .dataframe thead th {\n        text-align: right;\n    }\n</style>\n<table border=\"1\" class=\"dataframe\">\n  <thead>\n    <tr style=\"text-align: right;\">\n      <th></th>\n      <th>First Name</th>\n      <th>Last Name</th>\n      <th>Club</th>\n      <th>PTS</th>\n      <th>Season</th>\n    </tr>\n  </thead>\n  <tbody>\n    <tr>\n      <th>0</th>\n      <td>None</td>\n      <td>Carreiro da Silva Fred</td>\n      <td>DCD.C. United</td>\n      <td>55</td>\n      <td>2007</td>\n    </tr>\n    <tr>\n      <th>1</th>\n      <td>Ben</td>\n      <td>Olsen</td>\n      <td>DCD.C. United</td>\n      <td>55</td>\n      <td>2007</td>\n    </tr>\n    <tr>\n      <th>2</th>\n      <td>Brad</td>\n      <td>North</td>\n      <td>DCD.C. United</td>\n      <td>55</td>\n      <td>2007</td>\n    </tr>\n    <tr>\n      <th>3</th>\n      <td>Brian</td>\n      <td>Carroll</td>\n      <td>DCD.C. United</td>\n      <td>55</td>\n      <td>2007</td>\n    </tr>\n    <tr>\n      <th>4</th>\n      <td>Bryan</td>\n      <td>Arguez</td>\n      <td>DCD.C. United</td>\n      <td>55</td>\n      <td>2007</td>\n    </tr>\n    <tr>\n      <th>...</th>\n      <td>...</td>\n      <td>...</td>\n      <td>...</td>\n      <td>...</td>\n      <td>...</td>\n    </tr>\n    <tr>\n      <th>6206</th>\n      <td>Quincy</td>\n      <td>Amarikwa</td>\n      <td>SJSan Jose Earthquakes</td>\n      <td>21</td>\n      <td>2018</td>\n    </tr>\n    <tr>\n      <th>6207</th>\n      <td>Shea</td>\n      <td>Salinas</td>\n      <td>SJSan Jose Earthquakes</td>\n      <td>21</td>\n      <td>2018</td>\n    </tr>\n    <tr>\n      <th>6208</th>\n      <td>Tommy</td>\n      <td>Thompson</td>\n      <td>SJSan Jose Earthquakes</td>\n      <td>21</td>\n      <td>2018</td>\n    </tr>\n    <tr>\n      <th>6209</th>\n      <td>Valeri \"Vako\"</td>\n      <td>Qazaishvili</td>\n      <td>SJSan Jose Earthquakes</td>\n      <td>21</td>\n      <td>2018</td>\n    </tr>\n    <tr>\n      <th>6210</th>\n      <td>Yeferson</td>\n      <td>Quintana</td>\n      <td>SJSan Jose Earthquakes</td>\n      <td>21</td>\n      <td>2018</td>\n    </tr>\n  </tbody>\n</table>\n<p>6211 rows × 5 columns</p>\n</div>"
     },
     "metadata": {},
     "execution_count": 6
    }
   ],
   "source": [
    "sample=pd.DataFrame(engine.execute(\"\"\"\n",
    "select s.\"First Name\", s.\"Last Name\",\n",
    "c.Club, c.pts, c.season\n",
    "from seasons c\n",
    "join club_map m on m.long_name = c.Club\n",
    "join salaries s on s.\"Club (grouped)\" = m.short_name\n",
    "where c.season = s.Season\n",
    "\"\"\"),columns=['First Name','Last Name','Club','PTS','Season'])\n",
    "sample\n"
   ]
  },
  {
   "cell_type": "code",
   "execution_count": null,
   "metadata": {},
   "outputs": [],
   "source": []
  }
 ],
 "metadata": {
  "kernelspec": {
   "display_name": "Python 3.6.9 64-bit",
   "language": "python",
   "name": "python36964bit606610d55bdf41e4a1443486c44dd6d8"
  },
  "language_info": {
   "codemirror_mode": {
    "name": "ipython",
    "version": 3
   },
   "file_extension": ".py",
   "mimetype": "text/x-python",
   "name": "python",
   "nbconvert_exporter": "python",
   "pygments_lexer": "ipython3",
   "version": "3.6.9-final"
  }
 },
 "nbformat": 4,
 "nbformat_minor": 4
}